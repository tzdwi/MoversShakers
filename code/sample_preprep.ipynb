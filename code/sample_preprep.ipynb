{
 "cells": [
  {
   "cell_type": "markdown",
   "id": "9862086a",
   "metadata": {},
   "source": [
    "# 9/27/23: We ran a new ADQL query:\n",
    "```sql\n",
    "SELECT gaia.*, gaia_spec.*, gaia_full.ecl_lat, gaia_full.ecl_lon, gaia_full.nu_eff_used_in_astrometry, gaia_dist.r_med_geo, gaia_dist.r_lo_geo, gaia_dist.r_hi_geo, gaia_dist.r_med_photogeo, gaia_dist.r_lo_photogeo, gaia_dist.r_hi_photogeo, sdss.objid, sdss.mjd, sdss.g, sdss.dered_g, sdss.err_g, sdss.r, sdss.dered_r, sdss.err_r, sdss.i, sdss.dered_i, sdss.err_i\n",
    "FROM gaiadr3.gaia_source_lite as gaia \n",
    "INNER JOIN gaiadr3.gaia_source as gaia_full ON gaia.source_id = gaia_full.source_id\n",
    "INNER JOIN gaiadr3.xp_summary as gaia_spec ON gaia.source_id = gaia_spec.source_id\n",
    "INNER JOIN external.gaiaedr3_distance as gaia_dist ON gaia.source_id = gaia_dist.source_id\n",
    "INNER JOIN gaiadr3.sdssdr13_best_neighbour as sdss_neigh ON gaia.source_id = sdss_neigh.source_id\n",
    "INNER JOIN external.sdssdr13_photoprimary as sdss ON sdss_neigh.original_ext_source_id = sdss.objid\n",
    "WHERE gaia.has_xp_continuous = 'True' AND\n",
    "sdss.err_g <= 0.01 AND\n",
    "sdss.err_r <= 0.01 AND\n",
    "sdss.err_i <= 0.01 AND\n",
    "sdss.g - sdss.dered_g < 1.5 AND\n",
    "gaia.parallax_over_error > 10\n",
    "```\n",
    "# which gave us 10M stars(!). Before we start downloading spectra, let's do a little bit of work to further trim this sample, starting with the quality of the XP spectra"
   ]
  },
  {
   "cell_type": "code",
   "execution_count": null,
   "id": "f30508f5",
   "metadata": {},
   "outputs": [],
   "source": [
    "xp_red_chi2 = xp_chi_squared/(xp_n_measurements - 55)"
   ]
  }
 ],
 "metadata": {
  "kernelspec": {
   "display_name": "Python 3 (ipykernel)",
   "language": "python",
   "name": "python3"
  },
  "language_info": {
   "codemirror_mode": {
    "name": "ipython",
    "version": 3
   },
   "file_extension": ".py",
   "mimetype": "text/x-python",
   "name": "python",
   "nbconvert_exporter": "python",
   "pygments_lexer": "ipython3",
   "version": "3.7.8"
  }
 },
 "nbformat": 4,
 "nbformat_minor": 5
}
